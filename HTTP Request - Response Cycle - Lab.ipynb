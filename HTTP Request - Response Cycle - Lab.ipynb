{
 "cells": [
  {
   "cell_type": "markdown",
   "metadata": {},
   "source": [
    "Current location of International Space Station\n",
    "The first endpoint we'll look at on OpenNotify is the iss-now.json endpoint (current location of international space station). This endpoint gets the current latitude and longitude of the International Space Station. Perform following tasks\n",
    "\n",
    "Make a get request to get the latest position of the international space station from the opennotify api's iss-now endpoint at http://api.open-notify.org/iss-now.json\n",
    "Check the status code of the response\n",
    "Interpret the returned code"
   ]
  },
  {
   "cell_type": "code",
   "execution_count": 1,
   "metadata": {},
   "outputs": [
    {
     "name": "stdout",
     "output_type": "stream",
     "text": [
      "200\n"
     ]
    }
   ],
   "source": [
    "import requests\n",
    "# Make a get request to get the latest position of the international space station from the opennotify api.\n",
    "response = requests.get(\"http://api.open-notify.org/iss-now.json\")\n",
    "\n",
    "# Print the status code of the response.\n",
    "print(response.status_code)"
   ]
  },
  {
   "cell_type": "markdown",
   "metadata": {},
   "source": [
    "Print the contents of the response and identify its current location"
   ]
  },
  {
   "cell_type": "code",
   "execution_count": 3,
   "metadata": {},
   "outputs": [
    {
     "name": "stdout",
     "output_type": "stream",
     "text": [
      "{\"iss_position\": {\"latitude\": \"30.4678\", \"longitude\": \"127.1856\"}, \"timestamp\": 1564498292, \"message\": \"success\"}\n"
     ]
    }
   ],
   "source": [
    "print(response.text)"
   ]
  },
  {
   "cell_type": "markdown",
   "metadata": {},
   "source": [
    "Let's repeat the above for the second endpoint iss-pass.json. This end point is used to query the next pass of the space station on a given location. Let's just run as above and record your observations"
   ]
  },
  {
   "cell_type": "code",
   "execution_count": 4,
   "metadata": {},
   "outputs": [
    {
     "name": "stdout",
     "output_type": "stream",
     "text": [
      "400\n"
     ]
    }
   ],
   "source": [
    "# Make a get request to get the latest position of the international space station from the opennotify api.\n",
    "response = requests.get(\"http://api.open-notify.org/iss-pass.json\")\n",
    "\n",
    "# Print the status code of the response.\n",
    "print(response.status_code)"
   ]
  },
  {
   "cell_type": "markdown",
   "metadata": {},
   "source": [
    "Set parameters to reflect the lat and long of New York (40.71, -74)\n",
    "Send a get request to OpenNotify passing in the lat long parameters as k:v pairs in a dictionary i.e. {\"lat\": 40.71, \"lon\": -74}\n",
    "Check the status code and interpret\n",
    "Print the header information and the returned content"
   ]
  },
  {
   "cell_type": "code",
   "execution_count": 5,
   "metadata": {},
   "outputs": [
    {
     "name": "stdout",
     "output_type": "stream",
     "text": [
      "200\n",
      "{'Server': 'nginx/1.10.3', 'Date': 'Tue, 30 Jul 2019 14:53:44 GMT', 'Content-Type': 'application/json', 'Content-Length': '519', 'Connection': 'keep-alive', 'Via': '1.1 vegur'}\n",
      "{\n",
      "  \"message\": \"success\", \n",
      "  \"request\": {\n",
      "    \"altitude\": 100, \n",
      "    \"datetime\": 1564496841, \n",
      "    \"latitude\": 40.71, \n",
      "    \"longitude\": -74.0, \n",
      "    \"passes\": 5\n",
      "  }, \n",
      "  \"response\": [\n",
      "    {\n",
      "      \"duration\": 464, \n",
      "      \"risetime\": 1564513243\n",
      "    }, \n",
      "    {\n",
      "      \"duration\": 651, \n",
      "      \"risetime\": 1564518915\n",
      "    }, \n",
      "    {\n",
      "      \"duration\": 610, \n",
      "      \"risetime\": 1564524752\n",
      "    }, \n",
      "    {\n",
      "      \"duration\": 556, \n",
      "      \"risetime\": 1564530637\n",
      "    }, \n",
      "    {\n",
      "      \"duration\": 603, \n",
      "      \"risetime\": 1564536472\n",
      "    }\n",
      "  ]\n",
      "}\n",
      "\n"
     ]
    }
   ],
   "source": [
    "# Set up the parameters we want to pass to the API.\n",
    "# This is the latitude and longitude of New York City.\n",
    "parameters = {\"lat\": 40.71, \"lon\": -74}\n",
    "\n",
    "# Make a get request with the parameters.\n",
    "response = requests.get(\"http://api.open-notify.org/iss-pass.json\", params=parameters)\n",
    "print(response.status_code)\n",
    "\n",
    "# Print the content of the response (the data the server returned)\n",
    "print(dict(response.headers))\n",
    "print(response.text)"
   ]
  },
  {
   "cell_type": "markdown",
   "metadata": {},
   "source": [
    "OpenNotify has one more API endpoint, /astros.json. It tells you how many people are currently in space. The format of the responses can be studied HERE.\n",
    "\n",
    "Read the above documentation and perform following tasks:\n",
    "\n",
    "Get the response from astros.json endpoint\n",
    "Count how many people are currently in space\n",
    "List the names of people currently in space."
   ]
  },
  {
   "cell_type": "code",
   "execution_count": 7,
   "metadata": {},
   "outputs": [
    {
     "name": "stdout",
     "output_type": "stream",
     "text": [
      "6\n",
      "{'message': 'success', 'people': [{'name': 'Alexey Ovchinin', 'craft': 'ISS'}, {'name': 'Nick Hague', 'craft': 'ISS'}, {'name': 'Christina Koch', 'craft': 'ISS'}, {'name': 'Alexander Skvortsov', 'craft': 'ISS'}, {'name': 'Luca Parmitano', 'craft': 'ISS'}, {'name': 'Andrew Morgan', 'craft': 'ISS'}], 'number': 6}\n"
     ]
    }
   ],
   "source": [
    "response = requests.get(\"http://api.open-notify.org/astros.json\")\n",
    "data = response.json()\n",
    "\n",
    "# 6 people are currently in space.\n",
    "print(data[\"number\"])\n",
    "print(dict(data))"
   ]
  }
 ],
 "metadata": {
  "kernelspec": {
   "display_name": "Python 3",
   "language": "python",
   "name": "python3"
  },
  "language_info": {
   "codemirror_mode": {
    "name": "ipython",
    "version": 3
   },
   "file_extension": ".py",
   "mimetype": "text/x-python",
   "name": "python",
   "nbconvert_exporter": "python",
   "pygments_lexer": "ipython3",
   "version": "3.7.3"
  }
 },
 "nbformat": 4,
 "nbformat_minor": 2
}
